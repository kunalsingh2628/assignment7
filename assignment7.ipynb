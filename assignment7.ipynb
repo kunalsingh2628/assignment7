{
 "cells": [
  {
   "cell_type": "code",
   "execution_count": 1,
   "id": "27f75665-9902-4119-8e41-b4597bcd6c35",
   "metadata": {},
   "outputs": [],
   "source": [
    "##Q-1\n"
   ]
  },
  {
   "cell_type": "code",
   "execution_count": 2,
   "id": "1b825722-377c-4fb1-90bb-632d7ed80609",
   "metadata": {},
   "outputs": [],
   "source": [
    "def check_password(password):\n",
    "    uppercase_count = 0\n",
    "    lowercase_count = 0\n",
    "    number_count = 0\n",
    "    special_char_count = 0\n",
    "    \n",
    "    special_characters = \"!@#$%^&*()_+{}[]|\\\\:;'<>?,./\"\n",
    "    \n",
    "    if len(password) != 10:\n",
    "        return \"Invalid Password\"\n",
    "    \n",
    "    for char in password:\n",
    "        if char.isupper():\n",
    "            uppercase_count += 1\n",
    "        elif char.islower():\n",
    "            lowercase_count += 1\n",
    "        elif char.isdigit():\n",
    "            number_count += 1\n",
    "        elif char in special_characters:\n",
    "            special_char_count += 1\n",
    "    \n",
    "    if uppercase_count >= 2 and lowercase_count >= 2 and number_count >= 1 and special_char_count >= 3:\n",
    "        return \"Valid Password\"\n",
    "    else:\n",
    "        return \"Invalid Password\"\n"
   ]
  },
  {
   "cell_type": "code",
   "execution_count": 4,
   "id": "3e4bc710-d697-46a5-ade3-10c0078102a0",
   "metadata": {},
   "outputs": [
    {
     "name": "stdout",
     "output_type": "stream",
     "text": [
      "Invalid Password\n",
      "Invalid Password\n"
     ]
    }
   ],
   "source": [
    "password1 = \"Abc123!@#$\"\n",
    "print(check_password(password1)) \n",
    "\n",
    "password2 = \"Abcdefghij\"\n",
    "print(check_password(password2))  \n"
   ]
  },
  {
   "cell_type": "code",
   "execution_count": 6,
   "id": "9a71ad81-201b-4778-8257-2fd905de75ec",
   "metadata": {},
   "outputs": [],
   "source": [
    "##Q-2"
   ]
  },
  {
   "cell_type": "code",
   "execution_count": 8,
   "id": "bb4b4328-a9db-4fda-839a-c88607784672",
   "metadata": {},
   "outputs": [
    {
     "name": "stdout",
     "output_type": "stream",
     "text": [
      "['banana']\n"
     ]
    }
   ],
   "source": [
    "##1)if the function start with particular letter\n",
    "string_list = [\"apple\", \"banana\", \"cherry\", \"orange\"]\n",
    "start_letter = \"b\"\n",
    "\n",
    "result = list(filter(lambda x: x.startswith(start_letter), string_list))\n",
    "print(result)\n"
   ]
  },
  {
   "cell_type": "code",
   "execution_count": 9,
   "id": "2889bb16-0314-4bd4-b40e-87ec34d8f658",
   "metadata": {},
   "outputs": [
    {
     "name": "stdout",
     "output_type": "stream",
     "text": [
      "['123', '456']\n"
     ]
    }
   ],
   "source": [
    "##2)if the letter start with numeric\n",
    "string_list = [\"apple\", \"123\", \"banana\", \"456\"]\n",
    "\n",
    "result = list(filter(lambda x: x.isnumeric(), string_list))\n",
    "print(result)\n"
   ]
  },
  {
   "cell_type": "code",
   "execution_count": 10,
   "id": "0feb11fc-80d5-4b73-8ba1-e8f40c654664",
   "metadata": {},
   "outputs": [
    {
     "name": "stdout",
     "output_type": "stream",
     "text": [
      "[('orange', 80), ('mango', 99), ('grapes', 1000)]\n"
     ]
    }
   ],
   "source": [
    "##3)if the letter start with quantity\n",
    "fruits = [(\"mango\", 99), (\"orange\", 80), (\"grapes\", 1000)]\n",
    "\n",
    "sorted_fruits = sorted(fruits, key=lambda x: x[1])\n",
    "print(sorted_fruits)\n"
   ]
  },
  {
   "cell_type": "code",
   "execution_count": null,
   "id": "382a1d5e-418f-456b-8cd2-128a09877db7",
   "metadata": {},
   "outputs": [],
   "source": [
    "##4)if the letter start with number\n",
    "squares = [x**2 for x in range(1, 11)]\n",
    "print(squares)\n"
   ]
  }
 ],
 "metadata": {
  "kernelspec": {
   "display_name": "Python 3 (ipykernel)",
   "language": "python",
   "name": "python3"
  },
  "language_info": {
   "codemirror_mode": {
    "name": "ipython",
    "version": 3
   },
   "file_extension": ".py",
   "mimetype": "text/x-python",
   "name": "python",
   "nbconvert_exporter": "python",
   "pygments_lexer": "ipython3",
   "version": "3.10.8"
  }
 },
 "nbformat": 4,
 "nbformat_minor": 5
}
